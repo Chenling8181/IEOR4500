{
  "cells": [
    {
      "cell_type": "markdown",
      "metadata": {
        "id": "Ev6fFJTzDOod"
      },
      "source": [
        "# <span style='color:red'>Project 1</span>"
      ]
    },
    {
      "cell_type": "code",
      "execution_count": null,
      "metadata": {
        "colab": {
          "base_uri": "https://localhost:8080/",
          "height": 17
        },
        "id": "0bWdRy4pDOog",
        "outputId": "e6827588-88a4-4fad-f237-b245fe020aaf",
        "scrolled": true
      },
      "outputs": [
        {
          "name": "stderr",
          "output_type": "stream",
          "text": [
            "/var/folders/b4/jh08kpys74l03tzk4ffbltkh0000gn/T/ipykernel_1347/1189900070.py:1: DeprecationWarning: Importing display from IPython.core.display is deprecated since IPython 7.14, please import from IPython display\n",
            "  from IPython.core.display import display, HTML\n"
          ]
        },
        {
          "data": {
            "text/html": [
              "<style>.container { width: 90% !important; }</style>"
            ],
            "text/plain": [
              "<IPython.core.display.HTML object>"
            ]
          },
          "metadata": {},
          "output_type": "display_data"
        }
      ],
      "source": [
        "from IPython.core.display import display, HTML\n",
        "display(HTML(\"<style>.container { width: 90% !important; }</style>\"))"
      ]
    },
    {
      "cell_type": "markdown",
      "metadata": {
        "id": "08T1jriIDOoh"
      },
      "source": [
        "#### In this project we use dynamic programming to create a trading schedule that maximizes total number of shares traded, under a model of liquidity impact with memory"
      ]
    },
    {
      "cell_type": "code",
      "execution_count": null,
      "metadata": {
        "id": "InVP7bwbDOoi"
      },
      "outputs": [],
      "source": [
        "import csv\n",
        "import sys\n",
        "import scipy.io\n",
        "import numpy as np\n",
        "import math\n",
        "import matplotlib.pyplot as plt"
      ]
    },
    {
      "cell_type": "markdown",
      "metadata": {
        "id": "8LPu_EV6DOoi"
      },
      "source": [
        "# #### Suppose we have a total of N shares that we would like to trade over T time periods.  To do so, we produce a schedule\n",
        "$$ (n_0, n_1, \\ldots, n_{T-1}) \\quad \\text{where each} \\quad n_i \\ge 0$$\n",
        "#### Each $n_i$ represents the quantity that we will attempt  to trade at time $i = 0, 2, \\ldots, T-1$.  In reality the market will only allow us to trade a smaller quantity at each time period.  We impose the conditions:\n",
        "$$ \\sum_{i=0}^{T-2} n_i \\ \\le N \\quad \\text{and} \\quad n_{T-1} = N - \\text{quantity traded so far}$$\n",
        "#### This plays out as follows.  Assume that $\\alpha > 0$ (and very small) and $0 < \\pi < 1$ are given parameters.  Then we run the following process:\n",
        "#### 1. Initialize $M = 0$.  Then for $i = 0, 2, \\ldots, T-1$ we do the following:\n",
        "#### 2. Compute $M \\leftarrow \\lceil 0.1*M + 0.9*n_i\\rceil$.\n",
        "#### 3. At time $i \\le T-1$ we trade $S_i \\ = \\ \\lceil(1 - \\alpha M^\\pi)n_i \\rceil$ shares.  \n",
        "#### 4. Note that $n_{T-1} = N \\, - \\, \\sum_{i = 0}^{T-2} n_i$.\n",
        "\n",
        "#### <span style='color:red'>Example:  N = 10000, T = 4,   $\\alpha = 0.001$,   $\\pi = 0.5$</span>\n"
      ]
    },
    {
      "cell_type": "code",
      "execution_count": null,
      "metadata": {
        "colab": {
          "base_uri": "https://localhost:8080/"
        },
        "id": "65zwsJE9boFT",
        "outputId": "15035f34-f034-4607-c87f-683f955eccc7"
      },
      "outputs": [
        {
          "name": "stdout",
          "output_type": "stream",
          "text": [
            "Planned sales schedule: [ 9540.  9750.  9874.  9901.  9886.  9851.  9741.  9793. 10471. 11193.] ; total planned =  100000.0\n",
            "at time 0, M = 8586 and we trade 8657 shares\n",
            "at time 1, M = 9634 and we trade 8794 shares\n",
            "at time 2, M = 9850 and we trade 8895 shares\n",
            "at time 3, M = 9896 and we trade 8917 shares\n",
            "at time 4, M = 9887 and we trade 8904 shares\n",
            "at time 5, M = 9855 and we trade 8874 shares\n",
            "at time 6, M = 9753 and we trade 8780 shares\n",
            "at time 7, M = 9789 and we trade 8825 shares\n",
            "at time 8, M = 10403 and we trade 9404 shares\n",
            "at time 9, M = 11114 and we trade 10014 shares\n",
            "total sold = 90064 i.e., as a percentage, 90.064 of the total planned.\n"
          ]
        }
      ],
      "source": [
        "M = 0\n",
        "T = 10\n",
        "N = 100000\n",
        "alpha = 1e-3\n",
        "pi = 0.5\n",
        "S = np.zeros(T,dtype='i')\n",
        "n  = np.array([ 9540.,  9750.,  9874.,  9901.,  9886.,  9851.,  9741.,  9793.,\n",
        "       10471., 11193.]) # note that we index the array starting from zero\n",
        "print(\"Planned sales schedule:\",n,\"; total planned = \",np.sum(n))\n",
        "total = 0\n",
        "for i in range(T):\n",
        "    M = math.ceil(0.1*M + 0.9*n[i])\n",
        "    S[i] = math.ceil((1 - alpha*M**pi)*n[i])\n",
        "    total += S[i]\n",
        "    print('at time %d, M = %d and we trade %d shares' %(i,M,S[i]))\n",
        "print('total sold =', total, \"i.e., as a percentage,\",100*np.sum(S)/np.sum(n),\"of the total planned.\")"
      ]
    },
    {
      "cell_type": "code",
      "execution_count": null,
      "metadata": {
        "colab": {
          "base_uri": "https://localhost:8080/"
        },
        "id": "jbCWbgh6GTMQ",
        "outputId": "2551c64b-65e5-44c1-b376-b5c0c018a246"
      },
      "outputs": [
        {
          "name": "stdout",
          "output_type": "stream",
          "text": [
            "Planned sales schedule: [10000. 10000. 10000. 10000. 10000. 10000. 10000. 10000. 10000. 10000.] ; total planned =  100000.0\n",
            "at time 0, M = 9000 and we trade 9052 shares\n",
            "at time 1, M = 9900 and we trade 9006 shares\n",
            "at time 2, M = 9990 and we trade 9001 shares\n",
            "at time 3, M = 9999 and we trade 9001 shares\n",
            "at time 4, M = 10000 and we trade 9000 shares\n",
            "at time 5, M = 10000 and we trade 9000 shares\n",
            "at time 6, M = 10000 and we trade 9000 shares\n",
            "at time 7, M = 10000 and we trade 9000 shares\n",
            "at time 8, M = 10000 and we trade 9000 shares\n",
            "at time 9, M = 10000 and we trade 9000 shares\n",
            "total sold = 90060 i.e., as a percentage, 90.06 of the total planned.\n"
          ]
        }
      ],
      "source": [
        "M = 0\n",
        "T = 10\n",
        "N = 100000\n",
        "alpha = 1e-3\n",
        "pi = 0.5\n",
        "S = np.zeros(T,dtype='i')\n",
        "n  = np.ones(T)*(N/T) # note that we index the array starting from zero\n",
        "print(\"Planned sales schedule:\",n,\"; total planned = \",np.sum(n))\n",
        "total = 0\n",
        "for i in range(T):\n",
        "    M = math.ceil(0.1*M + 0.9*n[i])\n",
        "    S[i] = math.ceil((1 - alpha*M**pi)*n[i])\n",
        "    total += S[i]\n",
        "    print('at time %d, M = %d and we trade %d shares' %(i,M,S[i]))\n",
        "print('total sold =', total, \"i.e., as a percentage,\",100*np.sum(S)/np.sum(n),\"of the total planned.\")"
      ]
    },
    {
      "cell_type": "markdown",
      "metadata": {
        "id": "ntgLLRe_DOoj"
      },
      "source": [
        "### <span style='color:red'>Task 1: </span>code a dynamic programming algorithm that computes an optimal schedule of trades $(n_0, n_1, \\ldots, n_{T-1})$ with the goal of maximizing the total number of traded shares\n",
        "#### Make sure that your code runs well for a range of values of $\\alpha$ and $\\pi$\n",
        "#### Compute the optimal schedule when $\\alpha = 0.001$, $\\pi = 0.5$, $N = 100000$ and $T = 10$.   Denote this schedule by $(S_0, S_1, \\ldots, S_9)$."
      ]
    },
    {
      "cell_type": "code",
      "execution_count": null,
      "metadata": {
        "id": "5Hv89cPaQv5h"
      },
      "outputs": [],
      "source": [
        "def create_momentum(M, n_arr):\n",
        "    #Helper function\n",
        "    #Calculate an array of momentum based on the array of previous momentum and schedule\n",
        "    return np.ceil(np.add(0.1*M,0.9*n_arr))"
      ]
    },
    {
      "cell_type": "code",
      "execution_count": null,
      "metadata": {
        "id": "bU-Cgp-jQv5h"
      },
      "outputs": [],
      "source": [
        "def sell_given_m_n(M, n_arr):\n",
        "    #Helper function\n",
        "    #Determine the number of shares you are able to sell based on an array of momenum and schedule\n",
        "    return np.ceil((1 - alpha*M**pi)*n_arr)"
      ]
    },
    {
      "cell_type": "code",
      "execution_count": null,
      "metadata": {
        "id": "1swun4HAFhZH"
      },
      "outputs": [],
      "source": [
        "def DP1(N, T, alpha, pi):\n",
        "  #Dynamic Programming to determine the optimal schedule for each time period.\n",
        "  # DP optimal tables\n",
        "  # M[t, j] is momentum at time t, assuming j shares are scheduled optimally from time 0 to time t.\n",
        "  M = np.full((T, N+1), -np.inf)\n",
        "  # S[t, j] is the optimal number of total shares sold from time 0 to time t, assuming j shares are scheduled optimally from time 0 to time t.\n",
        "  S = np.full((T, N+1), -np.inf)\n",
        "  # decision[t, j] is number of shares scheduled at time t, assuming j shares are scheduled optimally from time 0 to time t.\n",
        "  decision = np.full((T, N+1), -np.inf)\n",
        "\n",
        "  # enumeration arrays\n",
        "  iarray = np.array(range(N + 1)) # helper array [0,1,2,3,...,N]\n",
        "  revi = np.array(range(N, -1, -1)) # helper array [N,N-1,N-2,...,0]\n",
        "\n",
        "  # candidates\n",
        "  M_candidates = np.full((N+1), -np.inf) #All the candidate M at time i.\n",
        "  S_candidates = np.full((N+1), -np.inf) #All the candidate S at time i.\n",
        "\n",
        "  # The base case is at time 0 without any previous momentum\n",
        "  # The momentum you create at time 0 is simply 0.9 * the shares you schedule. We enumerate all schedules from 0 to N.\n",
        "  np.copyto(M[0, :], np.ceil(0.9*iarray))\n",
        "  # The number of shares you sold at time 0 based on M and our formula.\n",
        "  np.copyto(S[0, :], np.ceil((1 - alpha*M[0, :]**pi)*iarray))\n",
        "  # Your corresponding schedule at time 0, which is simply an enumeration from 0 to N.\n",
        "  np.copyto(decision[0, :], range(N + 1))\n",
        "\n",
        "  # Dynamic Programming Recurrence.\n",
        "  # Iterate over time t=1,2,...,T-1.\n",
        "  for i in range(1, T):\n",
        "      # Iterate over j=0,1,2,...,N shares total scheduled optimally from time 0 to time t.\n",
        "      for j in range(0, N + 1):\n",
        "          # for k = 0,1,2,...j, calculate M_candidates[k], using M[t-1, k] and the j-k shares you schedule at time t.\n",
        "          np.copyto(M_candidates[:j + 1], create_momentum(M[i - 1, :j + 1],revi[N - j:N + 1]))\n",
        "\n",
        "          # for k = 0,1,2,...j, calculate S_candidates[k], using M_candidates[k], S[t-1,k] and the j-k shares you schedule at time t.\n",
        "          np.copyto(S_candidates[:j + 1], np.add(S[i - 1, :j + 1], sell_given_m_n(M_candidates[:j + 1],revi[N - j:N + 1])))\n",
        "\n",
        "          #find max{S_candidates[k]}, for k = 0,1,2,...j, and store the value.\n",
        "          S[i, j] = np.max(S_candidates[:j + 1])\n",
        "          # find k*= argmax{S_candidates[k]}, for k = 0,1,2,...j\n",
        "          # find M_candidates[k*] and store the value.\n",
        "          M[i, j] = M_candidates[np.argmax(S_candidates[:j + 1])]\n",
        "          # find j-k* and store the value\n",
        "          decision[i, j] = revi[N - j:N + 1][np.argmax(S_candidates[:j + 1])]\n",
        "\n",
        "  # Back out the schedule\n",
        "  # Store the schedule\n",
        "  schedule = np.zeros(T)\n",
        "  # keeps track of shares unsold so far.\n",
        "  total_unsold = N\n",
        "  # Working from backward (starting time T-1) because S[T-1, N] is the terminal states, telling us the total performance.\n",
        "  for t in range(T - 1, -1, -1):\n",
        "      # Retrieve the decision.\n",
        "      schedule[t]=int(decision[t, total_unsold])\n",
        "      # Reduce the total_unsold by the decision.\n",
        "      total_unsold -= int(decision[t, total_unsold])\n",
        "\n",
        "  return schedule"
      ]
    },
    {
      "cell_type": "code",
      "execution_count": null,
      "metadata": {
        "colab": {
          "base_uri": "https://localhost:8080/"
        },
        "id": "H6Vcq5p0bWZl",
        "outputId": "c310e747-81c0-4f0f-fc78-730a534e2e49"
      },
      "outputs": [
        {
          "data": {
            "text/plain": [
              "array([ 9540.,  9750.,  9874.,  9901.,  9886.,  9851.,  9741.,  9793.,\n",
              "       10471., 11193.])"
            ]
          },
          "execution_count": 8,
          "metadata": {},
          "output_type": "execute_result"
        }
      ],
      "source": [
        "DP1(100000, 10, 0.001, 0.5)"
      ]
    },
    {
      "cell_type": "markdown",
      "metadata": {
        "id": "vptKCO6uQv5i"
      },
      "source": [
        "We test the performance of our schedule in the example section. It is better than selling 10,000 shares at each period.\n",
        "\n",
        "Planned sales schedule: [ 9540.  9750.  9874.  9901.  9886.  9851.  9741.  9793. 10471. 11193.] ; total planned =  100000.0\n",
        "\n",
        "at time 0, M = 8586 and we trade 8657 shares\n",
        "\n",
        "at time 1, M = 9634 and we trade 8794 shares\n",
        "\n",
        "at time 2, M = 9850 and we trade 8895 shares\n",
        "\n",
        "at time 3, M = 9896 and we trade 8917 shares\n",
        "\n",
        "at time 4, M = 9887 and we trade 8904 shares\n",
        "\n",
        "at time 5, M = 9855 and we trade 8874 shares\n",
        "\n",
        "at time 6, M = 9753 and we trade 8780 shares\n",
        "\n",
        "at time 7, M = 9789 and we trade 8825 shares\n",
        "\n",
        "at time 8, M = 10403 and we trade 9404 shares\n",
        "\n",
        "at time 9, M = 11114 and we trade 10014 shares\n",
        "\n",
        "total sold = 90064 i.e., as a percentage, 90.064 of the total planned."
      ]
    },
    {
      "cell_type": "markdown",
      "metadata": {
        "id": "Q_UDi0xHejdY"
      },
      "source": [
        "Our schedule:\n",
        "\n",
        "[ 9540, 9750, 9874, 9901, 9886, 9851, 9741, 9793, 10471, 11193]\n",
        "\n"
      ]
    },
    {
      "cell_type": "markdown",
      "metadata": {
        "id": "zPtEagLqDOok"
      },
      "source": [
        "### <span style='color:red'>Task 2. Test the effectiveness of this computed schedule using the first 2 hours of each day in the TSLA data </span>\n",
        "To do so, we divide the first 2 hours of each day into 12 separate intervals of ten minutes each.\n",
        "Each interval is evaluated as follows.  Suppose that the traded volume in that interval is given by the numbers $(V_0, V_1, \\ldots, V_9)$.\n",
        "Then the interval score we assign to our schedule is given by\n",
        "$$ \\sum_{i = 0}^9 \\min\\{ S_i, V_i/100 \\}.$$\n",
        "Effectively, this scheme allows us to trade up to a volume of 1% of what the market actually traded."
      ]
    },
    {
      "cell_type": "markdown",
      "metadata": {
        "id": "WuxUI-jEDOok"
      },
      "source": [
        "#### The TOTAL SCORE we assign to our schedule is the average of the all interval scores, averaged over the first 12 intervals of all the days in the first half of our data\n",
        "#### In other words, if we have 300 days of data, we take the first 150, and we get in total 12x150 = 1800 intervals"
      ]
    },
    {
      "cell_type": "code",
      "execution_count": null,
      "metadata": {
        "id": "CCKn8cwkWQ_h"
      },
      "outputs": [],
      "source": [
        "filename = 'TSLA.csv'\n",
        "f = open(filename,'r')\n",
        "csvf = csv.reader(f)\n",
        "thelist = list(csvf)\n",
        "f.close()\n",
        "numobservations = len(thelist)\n",
        "#print('total number of rows:', numobservations)\n",
        "nlist = np.array(thelist)\n",
        "stringvolume = nlist[4:51630,6] #column 6 (from 0) has the trading volume per minute\n",
        "#print('first ten entries of column 6:',stringvolume[:10])\n",
        "#convert to integers\n",
        "#let's try to guess what the problem is\n",
        "numobservations = len(thelist)\n",
        "#print('total number of rows:', numobservations)\n",
        "nlist = np.array(thelist)\n",
        "stringvolume = nlist[4:,6]\n",
        "# One solution.  Most efficient? Find the length of each entry and use that to find the first empty one.\n",
        "# Well, it works.\n",
        "length_checker = np.vectorize(len)\n",
        "\n",
        "v_len = length_checker(stringvolume)\n",
        "#v_len will be an array whose kth entry is the length of the string in position k in stringvolume\n",
        "#print('size of some selected entries:',v_len[51620:51630])\n",
        "\n",
        "first0 = np.argmin(v_len)\n",
        "#print('first blank at', first0)\n",
        "#print('check:', v_len[first0-1], v_len[first0])\n",
        "numactual = first0\n",
        "#and convert to integers\n",
        "\n",
        "volume = stringvolume[:numactual].astype(int) #in other words I am taking all entries up to the first blank one\n",
        "#check\n",
        "#print('first', volume[0], 'last', volume[numactual-1])\n",
        "#plt.plot(volume)"
      ]
    },
    {
      "cell_type": "code",
      "execution_count": null,
      "metadata": {
        "id": "F6hanqzLWTpi"
      },
      "outputs": [],
      "source": [
        "nlist = np.array(thelist)\n",
        "stringdt = nlist[4:51630,0] #column 6 (from 0) has the trading volume per minute\n",
        "#convert to datetime\n",
        "from datetime import datetime\n",
        "from dateutil import parser\n",
        "dt = np.zeros(numactual,dtype='datetime64[s]')\n",
        "for i in range(numactual):\n",
        "    dt[i] = parser.parse(stringdt[i])\n",
        "#check\n",
        "#print('first', dt[0], 'last', dt[numactual-1])\n",
        "#how many days of data do we have?\n",
        "numdays = (dt[numactual-1]-dt[0])/ np.timedelta64(1, 'D')\n",
        "#print('number of days of data:', numdays)"
      ]
    },
    {
      "cell_type": "code",
      "execution_count": null,
      "metadata": {
        "colab": {
          "base_uri": "https://localhost:8080/"
        },
        "id": "eO6A7o_KWayE",
        "outputId": "83d8cebf-2ee0-41ca-bfd1-703a43376064"
      },
      "outputs": [
        {
          "output_type": "stream",
          "name": "stdout",
          "text": [
            "first 2021-01-04T09:30:00 last 2021-04-09T16:29:00\n"
          ]
        }
      ],
      "source": [
        "#extract first 95 days\n",
        "firstday = dt[0]\n",
        "lastday = firstday + np.timedelta64(96, 'D')\n",
        "mask = (dt >= firstday) & (dt <= lastday)\n",
        "dt = dt[mask]\n",
        "#check\n",
        "print('first', dt[0], 'last', dt[-1])\n",
        "#how many days of data do we have?\n",
        "numdays = (dt[-1]-dt[0])/ np.timedelta64(1, 'D')\n",
        "#print('number of days of data:', numdays)\n",
        "dtlen = dt.size\n",
        "#print(dtlen)"
      ]
    },
    {
      "cell_type": "code",
      "execution_count": null,
      "metadata": {
        "id": "9OrRFY-IWdz-"
      },
      "outputs": [],
      "source": [
        "#find index of each openning\n",
        "idx = np.concatenate([np.where(dt == dt[0] + a * np.timedelta64(1, 'D'))[0] for a in range(96) ])\n",
        "#idx"
      ]
    },
    {
      "cell_type": "code",
      "execution_count": null,
      "metadata": {
        "id": "_Ua1v5mlWjWe"
      },
      "outputs": [],
      "source": [
        "#compute volume of each interval\n",
        "itvVolume = []\n",
        "\n",
        "for i in idx:\n",
        "    cr = i\n",
        "    for j in range(12):\n",
        "        itvVolume.append(np.sum(volume[cr:cr+10]))\n",
        "        cr = cr + 10\n",
        "itvVolume = np.array(itvVolume)\n",
        "#plt.plot(itvVolume)"
      ]
    },
    {
      "cell_type": "code",
      "execution_count": null,
      "metadata": {
        "id": "pHxg00DndVa8"
      },
      "outputs": [],
      "source": [
        "intervals = []\n",
        "\n",
        "for i in idx:\n",
        "    interval_data = [volume[i+j:i+j+10] for j in range(0, 120, 10)]  # Extract 10-minute intervals\n",
        "    intervals.extend(interval_data)\n",
        "intervals = np.array(intervals)\n",
        "#print(intervals)"
      ]
    },
    {
      "cell_type": "code",
      "execution_count": null,
      "metadata": {
        "id": "yJFXDlK7efS-"
      },
      "outputs": [],
      "source": [
        "S = np.array([ 9540.,  9750.,  9874.,  9901.,  9886.,  9851.,  9741.,  9793.,\n",
        "       10471., 11193.])"
      ]
    },
    {
      "cell_type": "code",
      "execution_count": null,
      "metadata": {
        "id": "86Qd9H6tdfnV"
      },
      "outputs": [],
      "source": [
        "def backtest(intervals, itvVolume, S):\n",
        "    # s is the schedule\n",
        "    # s = function generating schedule\n",
        "    # itvVolume is the total volume per 10 minutes (N)\n",
        "    #inrervals is the volume per minute (V_i)\n",
        "    # returns the score\n",
        "    score = 0\n",
        "    for i in range(itvVolume.size):\n",
        "        # s is the schedule\n",
        "        # s = function generating schedule with input itvVolume[i]\n",
        "        itvScore = 0\n",
        "        for j in range(10):\n",
        "            itvScore += min(S[j], intervals[i][j]/100)\n",
        "        score += itvScore\n",
        "\n",
        "    score = score/itvVolume.size\n",
        "    return score"
      ]
    },
    {
      "cell_type": "code",
      "execution_count": null,
      "metadata": {
        "colab": {
          "base_uri": "https://localhost:8080/"
        },
        "id": "yd3d_tPWfjYV",
        "outputId": "c4344660-3384-4046-caf1-dbf430b41034"
      },
      "outputs": [
        {
          "output_type": "execute_result",
          "data": {
            "text/plain": [
              "8059.231330845776"
            ]
          },
          "metadata": {},
          "execution_count": 12
        }
      ],
      "source": [
        "backtest(intervals, itvVolume, S)"
      ]
    },
    {
      "cell_type": "markdown",
      "metadata": {
        "id": "Fsb2WZnnlJQa"
      },
      "source": [
        "The score for our schedule is 8059.231330845776"
      ]
    },
    {
      "cell_type": "markdown",
      "metadata": {
        "id": "8U0Vf1roDOol"
      },
      "source": [
        "### <span style='color:red'>Task 3:</span>  code an algorithm that (approximately) does the following:\n",
        "#### 1. It approximately enumerates all possible values for $\\pi$ between $0.3$ and $0.7$\n",
        "#### 2. It approximately computes the value of $\\pi$ that maximizes the TOTAL SCORE, when $N = 100000$, $T = 10$ and $\\alpha = 0.001$.\n",
        "#### 3. This means that we run the DP algorithm (under the chosen value of $\\pi$) and then evaluate as above to compute the TOTAL SCORE."
      ]
    },
    {
      "cell_type": "code",
      "execution_count": null,
      "metadata": {
        "colab": {
          "base_uri": "https://localhost:8080/",
          "height": 500
        },
        "id": "Qqb6N_tPDOol",
        "outputId": "d44d695a-f55c-4169-a3b5-37ccb5296a85"
      },
      "outputs": [
        {
          "name": "stdout",
          "output_type": "stream",
          "text": [
            "0.3\n",
            "0.39999999999999997\n",
            "0.5\n",
            "0.6\n",
            "0.7\n",
            "Best π value: 0.7\n",
            "Best SCORE: 99932.26990049751\n"
          ]
        }
      ],
      "source": [
        "# Define the parameters\n",
        "N = 100000\n",
        "T = 10\n",
        "alpha = 0.001\n",
        "\n",
        "# Define the range of π values to consider\n",
        "pi_values = np.linspace(0.3, 0.7, 5)  # Adjust the number of values as needed\n",
        "\n",
        "# Initialize variables to store the best result\n",
        "best_pi = None\n",
        "best_pi_score = float(\"-inf\")\n",
        "\n",
        "for pi in pi_values:\n",
        "    print(pi)\n",
        "    #utilize DP algorithm from part 1 to calculate optimal schedule given parameters N, T, alpha, and pi\n",
        "    pi_schedule = DP1(N, T, alpha, pi)\n",
        "    #utilize score calculation function which simply draws data from TSLA.csv and draws first 2 hours of each day to calculate\n",
        "    #effectiveness of a given schedule\n",
        "    pi_score = backtest(intervals, itvVolume, pi_schedule)\n",
        "     # Check if this π value gives a better score, if it does then update the optimal pi value\n",
        "    if pi_score > best_pi_score:\n",
        "        best_pi_score = pi_score\n",
        "        best_pi = pi\n",
        "# Print the optimal pi as well as the score of the corresponding schedule\n",
        "print(f\"Best π value: {best_pi}\")\n",
        "print(f\"Best SCORE: {best_pi_score}\")"
      ]
    }
  ],
  "metadata": {
    "colab": {
      "provenance": []
    },
    "kernelspec": {
      "display_name": "Python 3",
      "language": "python",
      "name": "python3"
    },
    "language_info": {
      "codemirror_mode": {
        "name": "ipython",
        "version": 3
      },
      "file_extension": ".py",
      "mimetype": "text/x-python",
      "name": "python",
      "nbconvert_exporter": "python",
      "pygments_lexer": "ipython3",
      "version": "3.9.7"
    }
  },
  "nbformat": 4,
  "nbformat_minor": 0
}