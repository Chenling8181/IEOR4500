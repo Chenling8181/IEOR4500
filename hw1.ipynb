{
  "cells": [
    {
      "cell_type": "markdown",
      "metadata": {
        "colab_type": "text",
        "id": "view-in-github"
      },
      "source": [
        "<a href=\"https://colab.research.google.com/github/Chenling8181/IEOR4500/blob/main/hw1.ipynb\" target=\"_parent\"><img src=\"https://colab.research.google.com/assets/colab-badge.svg\" alt=\"Open In Colab\"/></a>"
      ]
    },
    {
      "cell_type": "markdown",
      "metadata": {
        "id": "Ev6fFJTzDOod"
      },
      "source": [
        "# <span style='color:red'>Project 1</span>"
      ]
    },
    {
      "cell_type": "code",
      "execution_count": 1,
      "metadata": {
        "colab": {
          "base_uri": "https://localhost:8080/",
          "height": 17
        },
        "id": "0bWdRy4pDOog",
        "outputId": "60e4b4eb-571f-4111-fc4f-020ed989cd69",
        "scrolled": true
      },
      "outputs": [
        {
          "name": "stderr",
          "output_type": "stream",
          "text": [
            "C:\\Users\\00\\AppData\\Local\\Temp\\ipykernel_51136\\1189900070.py:1: DeprecationWarning: Importing display from IPython.core.display is deprecated since IPython 7.14, please import from IPython display\n",
            "  from IPython.core.display import display, HTML\n"
          ]
        },
        {
          "data": {
            "text/html": [
              "<style>.container { width: 90% !important; }</style>"
            ],
            "text/plain": [
              "<IPython.core.display.HTML object>"
            ]
          },
          "metadata": {},
          "output_type": "display_data"
        }
      ],
      "source": [
        "from IPython.core.display import display, HTML\n",
        "display(HTML(\"<style>.container { width: 90% !important; }</style>\"))"
      ]
    },
    {
      "cell_type": "markdown",
      "metadata": {
        "id": "08T1jriIDOoh"
      },
      "source": [
        "#### In this project we use dynamic programming to create a trading schedule that maximizes total number of shares traded, under a model of liquidity impact with memory"
      ]
    },
    {
      "cell_type": "code",
      "execution_count": 5,
      "metadata": {
        "id": "InVP7bwbDOoi"
      },
      "outputs": [],
      "source": [
        "import csv\n",
        "import sys\n",
        "import scipy.io\n",
        "import numpy as np\n",
        "import math\n",
        "import matplotlib.pyplot as plt"
      ]
    },
    {
      "cell_type": "markdown",
      "metadata": {
        "id": "8LPu_EV6DOoi"
      },
      "source": [
        "# #### Suppose we have a total of N shares that we would like to trade over T time periods.  To do so, we produce a schedule\n",
        "$$ (n_0, n_1, \\ldots, n_{T-1}) \\quad \\text{where each} \\quad n_i \\ge 0$$\n",
        "#### Each $n_i$ represents the quantity that we will attempt  to trade at time $i = 0, 2, \\ldots, T-1$.  In reality the market will only allow us to trade a smaller quantity at each time period.  We impose the conditions:\n",
        "$$ \\sum_{i=0}^{T-2} n_i \\ \\le N \\quad \\text{and} \\quad n_{T-1} = N - \\text{quantity traded so far}$$\n",
        "#### This plays out as follows.  Assume that $\\alpha > 0$ (and very small) and $0 < \\pi < 1$ are given parameters.  Then we run the following process:\n",
        "#### 1. Initialize $M = 0$.  Then for $i = 0, 2, \\ldots, T-1$ we do the following:\n",
        "#### 2. Compute $M \\leftarrow \\lceil 0.1*M + 0.9*n_i\\rceil$.\n",
        "#### 3. At time $i \\le T-1$ we trade $S_i \\ = \\ \\lceil(1 - \\alpha M^\\pi)n_i \\rceil$ shares.  \n",
        "#### 4. Note that $n_{T-1} = N \\, - \\, \\sum_{i = 0}^{T-2} n_i$.\n",
        "\n",
        "#### <span style='color:red'>Example:  N = 10000, T = 4,   $\\alpha = 0.001$,   $\\pi = 0.5$</span>\n"
      ]
    },
    {
      "cell_type": "code",
      "execution_count": 6,
      "metadata": {
        "colab": {
          "base_uri": "https://localhost:8080/"
        },
        "id": "jbCWbgh6GTMQ",
        "outputId": "06260523-6a22-4b53-b88a-1fe6bda35891"
      },
      "outputs": [
        {
          "name": "stdout",
          "output_type": "stream",
          "text": [
            "Planned sales schedule: [100. 100. 100. 100. 100. 100. 100. 100. 100. 100.] ; total planned =  1000.0\n",
            "at time 0, M = 90 and we trade 100 shares\n",
            "at time 1, M = 99 and we trade 100 shares\n",
            "at time 2, M = 100 and we trade 99 shares\n",
            "at time 3, M = 100 and we trade 99 shares\n",
            "at time 4, M = 100 and we trade 99 shares\n",
            "at time 5, M = 100 and we trade 99 shares\n",
            "at time 6, M = 100 and we trade 99 shares\n",
            "at time 7, M = 100 and we trade 99 shares\n",
            "at time 8, M = 100 and we trade 99 shares\n",
            "at time 9, M = 100 and we trade 99 shares\n",
            "total sold = 992 i.e., as a percentage, 99.2 of the total planned.\n"
          ]
        }
      ],
      "source": [
        "M = 0\n",
        "T = 10\n",
        "N = 1000\n",
        "alpha = 1e-3\n",
        "pi = 0.5\n",
        "S = np.zeros(T,dtype='i')\n",
        "n  = np.ones(T)*(N/T) # note that we index the array starting from zero\n",
        "print(\"Planned sales schedule:\",n,\"; total planned = \",np.sum(n))\n",
        "total = 0\n",
        "for i in range(T):\n",
        "    M = math.ceil(0.1*M + 0.9*n[i])\n",
        "    S[i] = math.ceil((1 - alpha*M**pi)*n[i])\n",
        "    total += S[i]\n",
        "    print('at time %d, M = %d and we trade %d shares' %(i,M,S[i]))\n",
        "print('total sold =', total, \"i.e., as a percentage,\",100*np.sum(S)/np.sum(n),\"of the total planned.\")"
      ]
    },
    {
      "cell_type": "code",
      "execution_count": 7,
      "metadata": {
        "colab": {
          "base_uri": "https://localhost:8080/"
        },
        "id": "I-BeeEWG4aqM",
        "outputId": "f11b1b90-1fdc-4c01-d8f9-1d061bedfe6b"
      },
      "outputs": [
        {
          "name": "stdout",
          "output_type": "stream",
          "text": [
            "Planned sales schedule: [ 45 102  99  99  99  99  99  99  99 160] ; total planned =  1000\n",
            "at time 0, M = 41 and we trade 45 shares\n",
            "at time 1, M = 96 and we trade 102 shares\n",
            "at time 2, M = 99 and we trade 99 shares\n",
            "at time 3, M = 100 and we trade 99 shares\n",
            "at time 4, M = 100 and we trade 99 shares\n",
            "at time 5, M = 100 and we trade 99 shares\n",
            "at time 6, M = 100 and we trade 99 shares\n",
            "at time 7, M = 100 and we trade 99 shares\n",
            "at time 8, M = 100 and we trade 99 shares\n",
            "at time 9, M = 154 and we trade 159 shares\n",
            "total sold = 999 i.e., as a percentage, 99.9 of the total planned.\n"
          ]
        }
      ],
      "source": [
        "M = 0\n",
        "T = 10\n",
        "N = 1000\n",
        "alpha = 1e-3\n",
        "pi = 0.5\n",
        "S = np.zeros(T,dtype='i')\n",
        "n  = np.array([45,102,99,99,99,99,99,99,99,160]) # note that we index the array starting from zero\n",
        "print(\"Planned sales schedule:\",n,\"; total planned = \",np.sum(n))\n",
        "total = 0\n",
        "for i in range(T):\n",
        "    M = math.ceil(0.1*M + 0.9*n[i])\n",
        "    S[i] = math.ceil((1 - alpha*M**pi)*n[i])\n",
        "    total += S[i]\n",
        "    print('at time %d, M = %d and we trade %d shares' %(i,M,S[i]))\n",
        "print('total sold =', total, \"i.e., as a percentage,\",100*np.sum(S)/np.sum(n),\"of the total planned.\")"
      ]
    },
    {
      "cell_type": "code",
      "execution_count": 8,
      "metadata": {
        "colab": {
          "base_uri": "https://localhost:8080/"
        },
        "id": "qRyJqx59skgr",
        "outputId": "1719e5e2-8a7c-4a7e-ad14-4f3cc5e25ef4"
      },
      "outputs": [
        {
          "name": "stdout",
          "output_type": "stream",
          "text": [
            "Planned sales schedule: [1043 1256 1305 1396] ; total planned =  5000\n",
            "at time 0, M = 939 and we trade 1012 shares\n",
            "at time 1, M = 1225 and we trade 1213 shares\n",
            "at time 2, M = 1297 and we trade 1259 shares\n",
            "at time 3, M = 1387 and we trade 1345 shares\n",
            "total sold = 4829 i.e., as a percentage, 96.58 of the total planned.\n"
          ]
        }
      ],
      "source": [
        "M = 0\n",
        "T = 4\n",
        "N = 1000*5\n",
        "alpha = 1e-3\n",
        "pi = 0.5\n",
        "S = np.zeros(T,dtype='i')\n",
        "n  = np.array([1043,1256,1305,1396]) # note that we index the array starting from zero\n",
        "print(\"Planned sales schedule:\",n,\"; total planned = \",np.sum(n))\n",
        "total = 0\n",
        "for i in range(T):\n",
        "    M = math.ceil(0.1*M + 0.9*n[i])\n",
        "    S[i] = math.ceil((1 - alpha*M**pi)*n[i])\n",
        "    total += S[i]\n",
        "    print('at time %d, M = %d and we trade %d shares' %(i,M,S[i]))\n",
        "print('total sold =', total, \"i.e., as a percentage,\",100*np.sum(S)/np.sum(n),\"of the total planned.\")"
      ]
    },
    {
      "cell_type": "markdown",
      "metadata": {
        "id": "ntgLLRe_DOoj"
      },
      "source": [
        "### <span style='color:red'>Task 1: </span>code a dynamic programming algorithm that computes an optimal schedule of trades $(n_0, n_1, \\ldots, n_{T-1})$ with the goal of maximizing the total number of traded shares\n",
        "#### Make sure that your code runs well for a range of values of $\\alpha$ and $\\pi$\n",
        "#### Compute the optimal schedule when $\\alpha = 0.001$, $\\pi = 0.5$, $N = 100000$ and $T = 10$.   Denote this schedule by $(S_0, S_1, \\ldots, S_9)$."
      ]
    },
    {
      "cell_type": "code",
      "execution_count": 9,
      "metadata": {
        "id": "w16Hs8OrHV10"
      },
      "outputs": [],
      "source": [
        "def sell_give_m_n(m,n_array):\n",
        "  new_m = np.ceil(0.1*m+0.9*n_array)\n",
        "  return np.ceil((1-alpha*new_m**pi)*n_array)"
      ]
    },
    {
      "cell_type": "code",
      "execution_count": 11,
      "metadata": {
        "colab": {
          "base_uri": "https://localhost:8080/"
        },
        "id": "1swun4HAFhZH",
        "outputId": "9a12641a-46e8-4f27-b26e-2331dc133a25"
      },
      "outputs": [
        {
          "name": "stdout",
          "output_type": "stream",
          "text": [
            "Total sold 999.0 as a percentage 99.9 of shares the total planned\n",
            "The schedule is : [ 45. 102.  99.  99.  99.  99.  99.  99.  99. 160.]\n"
          ]
        }
      ],
      "source": [
        "T = 10\n",
        "N = 1000\n",
        "\n",
        "alpha = 1e-3\n",
        "pi = 0.5\n",
        "\n",
        "# S(time_period, previous_momentum, n_shares_left)\n",
        "S = np.full((T, N+1, N+1), -np.inf)\n",
        "# decisions(time_period, previous_momentum, n_shares_left)\n",
        "decisions= np.full((T, N+1, N+1), -np.inf)\n",
        "\n",
        "iarray = np.array(range(N+1))\n",
        "revi = N - iarray\n",
        "\n",
        "# Base case: final period, you announce to sell whatever number of shares you have.\n",
        "for n in range(N+1):\n",
        "  M = np.ceil(0.1*iarray+0.9*n)\n",
        "  S[T-1,:,n]=np.ceil((1 - alpha*M**pi)*n)\n",
        "\n",
        "\n",
        "candidates = np.full((N+1), -np.inf)\n",
        "for t in range(T-2,-1,-1):\n",
        "  for m in range(N+1):\n",
        "    for n in range(N+1):\n",
        "      # dynamic programming recurrence.\n",
        "      np.copyto(candidates[:n+1],  sell_give_m_n(m,iarray[0:n+1])+ S[t+1,np.ceil(0.1*m+0.9*iarray[0:n+1]).astype(int), revi[N-n:]])\n",
        "      S[t,m, n] = np.max(candidates[:n+1])\n",
        "      # store your decision.\n",
        "      decisions[t,m, n] = np.argmax(candidates[:n+1])\n",
        "\n",
        "#print your final solution\n",
        "print( 'Total sold', S[0,0,N], 'as a percentage', S[0,0,N]/N *100, 'of shares the total planned')\n",
        "\n",
        "#back out schedule decisions.\n",
        "m=0\n",
        "n = N\n",
        "schedule= np.full((T), -np.inf)\n",
        "for t in range(T-1):\n",
        "  announcement = int(decisions[t,m, n])\n",
        "  schedule[t]=announcement\n",
        "  m=int(np.ceil(0.1*m+0.9*announcement))\n",
        "  n -= announcement\n",
        "\n",
        "schedule[T-1]=N - np.sum(schedule[:T-1])\n",
        "print('The schedule is :', schedule)"
      ]
    },
    {
      "cell_type": "markdown",
      "metadata": {
        "id": "zPtEagLqDOok"
      },
      "source": [
        "### <span style='color:red'>Task 2. Test the effectiveness of this computed schedule using the first 2 hours of each day in the TSLA data </span>\n",
        "To do so, we divide the first 2 hours of each day into 12 separate intervals of ten minutes each.\n",
        "Each interval is evaluated as follows.  Suppose that the traded volume in that interval is given by the numbers $(V_0, V_1, \\ldots, V_9)$.\n",
        "Then the interval score we assign to our schedule is given by\n",
        "$$ \\sum_{i = 0}^9 \\min\\{ S_i, V_i/100 \\}.$$\n",
        "Effectively, this scheme allows us to trade up to a volume of 1% of what the market actually traded."
      ]
    },
    {
      "cell_type": "markdown",
      "metadata": {
        "id": "WuxUI-jEDOok"
      },
      "source": [
        "#### The TOTAL SCORE we assign to our schedule is the average of the all interval scores, averaged over the first 12 intervals of all the days in the first half of our data\n",
        "#### In other words, if we have 300 days of data, we take the first 150, and we get in total 12x150 = 1800 intervals"
      ]
    },
    {
      "cell_type": "code",
      "execution_count": 28,
      "metadata": {},
      "outputs": [
        {
          "name": "stdout",
          "output_type": "stream",
          "text": [
            "total number of rows: 121217\n",
            "first ten entries of column 6: ['736210' '189614' '277161' '199721' '463918' '420022' '289789' '218539'\n",
            " '192662' '130332']\n",
            "total number of rows: 121217\n",
            "size of some selected entries: [5 5 5 5 4 0 0 0 0 0]\n",
            "first blank at 51625\n",
            "check: 4 0\n",
            "first 736210 last 5050\n"
          ]
        },
        {
          "data": {
            "text/plain": [
              "[<matplotlib.lines.Line2D at 0x180d7dfecb0>]"
            ]
          },
          "execution_count": 28,
          "metadata": {},
          "output_type": "execute_result"
        },
        {
          "data": {
            "image/png": "[encoded data removed]",
            "text/plain": [
              "<Figure size 640x480 with 1 Axes>"
            ]
          },
          "metadata": {},
          "output_type": "display_data"
        }
      ],
      "source": [
        "filename = 'TSLA.csv'\n",
        "f = open(filename,'r')\n",
        "csvf = csv.reader(f)\n",
        "thelist = list(csvf)\n",
        "f.close()\n",
        "numobservations = len(thelist)\n",
        "print('total number of rows:', numobservations)\n",
        "nlist = np.array(thelist)\n",
        "stringvolume = nlist[4:51630,6] #column 6 (from 0) has the trading volume per minute\n",
        "print('first ten entries of column 6:',stringvolume[:10])\n",
        "#convert to integers\n",
        "#let's try to guess what the problem is\n",
        "numobservations = len(thelist)\n",
        "print('total number of rows:', numobservations)\n",
        "nlist = np.array(thelist)\n",
        "stringvolume = nlist[4:,6] \n",
        "# One solution.  Most efficient? Find the length of each entry and use that to find the first empty one.\n",
        "# Well, it works.\n",
        "length_checker = np.vectorize(len)  \n",
        "\n",
        "v_len = length_checker(stringvolume)\n",
        "#v_len will be an array whose kth entry is the length of the string in position k in stringvolume\n",
        "print('size of some selected entries:',v_len[51620:51630])\n",
        "\n",
        "first0 = np.argmin(v_len)\n",
        "print('first blank at', first0)\n",
        "print('check:', v_len[first0-1], v_len[first0])\n",
        "numactual = first0\n",
        "#and convert to integers\n",
        "\n",
        "volume = stringvolume[:numactual].astype(int) #in other words I am taking all entries up to the first blank one\n",
        "#check\n",
        "print('first', volume[0], 'last', volume[numactual-1])\n",
        "plt.plot(volume)"
      ]
    },
    {
      "cell_type": "code",
      "execution_count": 44,
      "metadata": {},
      "outputs": [
        {
          "name": "stdout",
          "output_type": "stream",
          "text": [
            "first 2021-01-04T09:30:00 last 2021-07-13T15:49:00\n",
            "number of days of data: 190.26319444444445\n"
          ]
        }
      ],
      "source": [
        "nlist = np.array(thelist)\n",
        "stringdt = nlist[4:51630,0] #column 6 (from 0) has the trading volume per minute\n",
        "#convert to datetime\n",
        "from datetime import datetime\n",
        "from dateutil import parser\n",
        "dt = np.zeros(numactual,dtype='datetime64[s]')\n",
        "for i in range(numactual):\n",
        "    dt[i] = parser.parse(stringdt[i])\n",
        "#check\n",
        "print('first', dt[0], 'last', dt[numactual-1])\n",
        "#how many days of data do we have?\n",
        "numdays = (dt[numactual-1]-dt[0])/ np.timedelta64(1, 'D')\n",
        "print('number of days of data:', numdays)"
      ]
    },
    {
      "cell_type": "code",
      "execution_count": 50,
      "metadata": {},
      "outputs": [
        {
          "name": "stdout",
          "output_type": "stream",
          "text": [
            "first 2021-01-04T09:30:00 last 2021-04-09T16:29:00\n",
            "number of days of data: 95.29097222222222\n",
            "26202\n"
          ]
        }
      ],
      "source": [
        "#extract first 95 days\n",
        "firstday = dt[0]\n",
        "lastday = firstday + np.timedelta64(96, 'D')\n",
        "mask = (dt >= firstday) & (dt <= lastday)\n",
        "dt = dt[mask]\n",
        "#check\n",
        "print('first', dt[0], 'last', dt[-1])\n",
        "#how many days of data do we have?\n",
        "numdays = (dt[-1]-dt[0])/ np.timedelta64(1, 'D')\n",
        "print('number of days of data:', numdays)\n",
        "dtlen = dt.size\n",
        "print(dtlen)"
      ]
    },
    {
      "cell_type": "code",
      "execution_count": 115,
      "metadata": {},
      "outputs": [
        {
          "data": {
            "text/plain": [
              "array([    0,   391,   782,  1173,  1564,  1955,  2346,  2738,  3129,\n",
              "        3520,  3911,  4302,  4693,  5084,  5475,  5866,  6257,  6648,\n",
              "        7040,  7431,  7822,  8213,  8604,  8995,  9386,  9777, 10168,\n",
              "       10559, 10950, 11341, 11732, 12123, 12514, 12905, 13297, 13688,\n",
              "       14079, 14470, 14861, 15252, 15643, 16034, 16425, 16816, 17207,\n",
              "       17598, 17989, 18380, 18771, 19162, 19553, 19945, 20336, 20727,\n",
              "       21118, 21509, 21900, 22291, 22682, 23073, 23464, 23855, 24246,\n",
              "       24637, 25029, 25420, 25811], dtype=int64)"
            ]
          },
          "execution_count": 115,
          "metadata": {},
          "output_type": "execute_result"
        }
      ],
      "source": [
        "idx = np.concatenate([np.where(dt == dt[0] + a * np.timedelta64(1, 'D'))[0] for a in range(96) ])\n",
        "idx"
      ]
    },
    {
      "cell_type": "code",
      "execution_count": 122,
      "metadata": {},
      "outputs": [
        {
          "data": {
            "text/plain": [
              "67.0"
            ]
          },
          "execution_count": 122,
          "metadata": {},
          "output_type": "execute_result"
        }
      ],
      "source": [
        "itvVolume = []\n",
        "\n",
        "for i in idx:\n",
        "    cr = i\n",
        "    for j in range(12):\n",
        "        itvVolume.append(np.sum(volume[cr:cr+10]))\n",
        "        cr = cr + 10\n",
        "itvVolume = np.array(itvVolume)\n",
        "itvVolume.size/12\n"
      ]
    },
    {
      "cell_type": "code",
      "execution_count": 123,
      "metadata": {},
      "outputs": [
        {
          "data": {
            "text/plain": [
              "[<matplotlib.lines.Line2D at 0x180cd8c29e0>]"
            ]
          },
          "execution_count": 123,
          "metadata": {},
          "output_type": "execute_result"
        },
        {
          "data": {
            "image/png": "[encoded data removed]",
            "text/plain": [
              "<Figure size 640x480 with 1 Axes>"
            ]
          },
          "metadata": {},
          "output_type": "display_data"
        }
      ],
      "source": [
        "plt.plot(itvVolume)"
      ]
    },
    {
      "cell_type": "markdown",
      "metadata": {
        "id": "8U0Vf1roDOol"
      },
      "source": [
        "### <span style='color:red'>Task 3:</span>  code an algorithm that (approximately) does the following:\n",
        "#### 1. It approximately enumerates all possible values for $\\pi$ between $0.3$ and $0.7$\n",
        "#### 2. It approximately computes the value of $\\pi$ that maximizes the TOTAL SCORE, when $N = 100000$, $T = 10$ and $\\alpha = 0.001$.\n",
        "#### 3. This means that we run the DP algorithm (under the chosen value of $\\pi$) and then evaluate as above to compute the TOTAL SCORE."
      ]
    },
    {
      "cell_type": "code",
      "execution_count": null,
      "metadata": {
        "id": "Qqb6N_tPDOol"
      },
      "outputs": [],
      "source": []
    },
    {
      "cell_type": "code",
      "execution_count": null,
      "metadata": {
        "id": "NbLghYAGDOol"
      },
      "outputs": [],
      "source": []
    }
  ],
  "metadata": {
    "colab": {
      "include_colab_link": true,
      "provenance": []
    },
    "kernelspec": {
      "display_name": "Python 3",
      "language": "python",
      "name": "python3"
    },
    "language_info": {
      "codemirror_mode": {
        "name": "ipython",
        "version": 3
      },
      "file_extension": ".py",
      "mimetype": "text/x-python",
      "name": "python",
      "nbconvert_exporter": "python",
      "pygments_lexer": "ipython3",
      "version": "3.10.7"
    }
  },
  "nbformat": 4,
  "nbformat_minor": 0
}
